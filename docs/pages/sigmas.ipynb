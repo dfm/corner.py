{
 "cells": [
  {
   "cell_type": "markdown",
   "metadata": {},
   "source": [
    "# A note about sigmas\n",
    "\n",
    "We are regularly asked about the default \"sigma\" confidence levels in the 2D histograms. The default confidence levels are `(0.118, 0.393, 0.675, 0.864)` corresponding to the `(0.5, 1, 1.5, 2)`-sigma confidence regions for a **2D** Gaussian distribution. These differ from the corresponding `(0.382, 0.683, 0.866, 0.955)` confidence intervals you would expect for a **1D** Guassian distribution. On this page, we will give a brief explanation about Gaussian distributions, confidence levels, and how the default `corner` confidence levels work.\n",
    "\n",
    "In one dimension, a Gaussian probability density is given by\n",
    "\n",
    "    pdf(r) = exp(-(r/s)^2/2) / sqrt(2*pi*s^2)\n",
    "\n",
    "If we integrate this distribution from `r = (-1*s, -2*s, -3*s)` to `(+1*s, +2*s, +3*s)` then we see that these ranges respectively include `(68.3%, 95.4%, 99.7%)` of the probability. Because scientists often report 1D confidence intervals and many distributions are approximately normal, it has become conventional to call reported confidence intervals  \"`n-σ` confidence intervals\" if the confidence level matches the probability contained in a 1D Gaussian distribution between `r=+/-n*s`. However, the relationship between, e.g., the 68.3% confidence level and `1-σ` doesn't make sense for non-Guassian distributions because those distributions may not be parametrized by a `σ` parameter at all. As we will see below, this relationship changes even for a 2D Gaussian density.\n",
    "\n",
    "In two dimensions, a Gaussian probability density is given by:\n",
    "\n",
    "    pdf(r) = exp(-(r/s)^2/2) / (2*pi*s^2)\n",
    "\n",
    "If we integrate (marginalize) over the polar angle and integrate the probability within a radius `r` from the center of the distribution we compute\n",
    "\n",
    "    cdf(r) = Integral(r' * exp(-(r'/s)^2/2) / s^2, {r', 0, r})\n",
    "           = 1 - exp(-(r/s)^2/2)\n",
    "\n",
    "From this calculation we see that for `r = (0.5*s, 1*s, 1.5*s, 2*s)` the included probability is `(11.8%, 39.3%, 67.5%, 86.4%)` matching the `corner.py` default confidence levels for the 2D histograms.\n",
    "\n",
    "The advantage of using the 2D Gaussian sigma confidence levels for the  2D histograms is that, for data that are approximately multivariate normally distributed and uncorrelated, the edges of the n-sigma confidence regions shown in the 2D histogram will line up with the n-sigma confidence intervals shown in the 1D histogram at the top of the figure column. See below."
   ]
  },
  {
   "cell_type": "code",
   "execution_count": null,
   "metadata": {
    "tags": []
   },
   "outputs": [],
   "source": [
    "import corner\n",
    "import numpy as np\n",
    "\n",
    "one_sigma_1d = 0.683\n",
    "q_lower = 1 / 2 - one_sigma_1d / 2\n",
    "q_upper = 1 / 2 + one_sigma_1d / 2\n",
    "\n",
    "one_sigma_2d = 0.393\n",
    "\n",
    "# Generate some fake data from a Gaussian\n",
    "np.random.seed(42)\n",
    "x = np.random.randn(50000, 2)"
   ]
  },
  {
   "cell_type": "markdown",
   "metadata": {},
   "source": [
    "First, plot this using the 2D Gaussian 1-sigma confidence level  (39.3%) for the 2D histogram with the 1D Gaussian 1-sigma confidence interval for the 1D histogram:"
   ]
  },
  {
   "cell_type": "code",
   "execution_count": null,
   "metadata": {
    "jupyter": {
     "outputs_hidden": false
    }
   },
   "outputs": [],
   "source": [
    "fig = corner.corner(x, quantiles=(q_lower, q_upper), levels=(one_sigma_2d,))\n",
    "_ = fig.suptitle(\"default 'one-sigma' level\")"
   ]
  },
  {
   "cell_type": "markdown",
   "metadata": {},
   "source": [
    "Now, plot this using 1D Gaussian 1-sigma confidence level (68.3%) for the 2D histogram again with the 1D Gaussian 1-sigma confidence interval for the 1D histogram:"
   ]
  },
  {
   "cell_type": "code",
   "execution_count": null,
   "metadata": {
    "jupyter": {
     "outputs_hidden": false
    }
   },
   "outputs": [],
   "source": [
    "fig = corner.corner(x, quantiles=(q_lower, q_upper), levels=(one_sigma_2d,))\n",
    "_ = fig.suptitle(\"alternative 'one-sigma' level\")"
   ]
  },
  {
   "cell_type": "markdown",
   "metadata": {},
   "source": [
    "We see that the edges of the 2D confidence region no longer line up with the edges of the 1D confidence region. However, this visualization has the advantage that the same percentage of data is contained within the confidence regions in each plot, a condition which is not satisfied when using the default 2D Gaussian sigma levels."
   ]
  }
 ],
 "metadata": {
  "kernelspec": {
   "display_name": "Python 3 (ipykernel)",
   "language": "python",
   "name": "python3"
  },
  "language_info": {
   "codemirror_mode": {
    "name": "ipython",
    "version": 3
   },
   "file_extension": ".py",
   "mimetype": "text/x-python",
   "name": "python",
   "nbconvert_exporter": "python",
   "pygments_lexer": "ipython3",
   "version": "3.12.6"
  }
 },
 "nbformat": 4,
 "nbformat_minor": 4
}
